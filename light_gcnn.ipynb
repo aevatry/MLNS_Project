{
 "cells": [
  {
   "cell_type": "code",
   "execution_count": null,
   "id": "3e5d464e",
   "metadata": {},
   "outputs": [],
   "source": [
    "import os\n",
    "import sys\n",
    "import numpy as np\n",
    "import pandas as pd\n",
    "\n",
    "src_path = os.path.abspath(os.path.join(os.path.curdir, \"src\"))\n",
    "sys.path.append(src_path)\n",
    "\n",
    "from src.dataset import read_dataset, download_dataset\n",
    "from src.helper import compute_dataset_statistics"
   ]
  },
  {
   "cell_type": "code",
   "execution_count": null,
   "id": "77a02fdd",
   "metadata": {},
   "outputs": [],
   "source": [
    "download_dataset\n",
    "\n",
    "df = read_dataset()"
   ]
  },
  {
   "cell_type": "code",
   "execution_count": null,
   "id": "b6365836",
   "metadata": {},
   "outputs": [],
   "source": [
    "user_artists_df = df.groupby(['user_id', 'artist_id']).agg(\n",
    "    timestamp = pd.NamedAgg(column='timestamp', aggfunc='max'),\n",
    ").reset_index()\n",
    "user_track_df = df.groupby(['user_id', 'track_id']).agg(\n",
    "    timestamp = pd.NamedAgg(column='timestamp', aggfunc='max'),\n",
    ").reset_index()\n",
    "\n",
    "user_artists_df = user_artists_df.rename(columns={'artist_id': 'item_id'})\n",
    "user_track_df = user_track_df.rename(columns={'track_id': 'item_id'})\n",
    "\n",
    "user_item_df = pd.concat([user_artists_df, user_track_df])\n",
    "\n",
    "user_item_df.info()"
   ]
  },
  {
   "cell_type": "code",
   "execution_count": null,
   "id": "f8309d5b",
   "metadata": {},
   "outputs": [],
   "source": [
    "stats = compute_dataset_statistics(user_item_df)"
   ]
  },
  {
   "cell_type": "code",
   "execution_count": null,
   "id": "255fb87c",
   "metadata": {},
   "outputs": [],
   "source": [
    "from src.light_gcn import LightGCN\n",
    "\n",
    "li_gcnn = LightGCN(\n",
    "    df=user_item_df,\n",
    "    batch_size=1024,\n",
    "    embedding_size=64,\n",
    "    num_layers=3,\n",
    "    normalize=True,\n",
    "    learning_rate=0.001,\n",
    "    regularization=1e-5\n",
    ")\n",
    "preds = li_gcnn.fit(epochs=5, val_epoch=1)"
   ]
  }
 ],
 "metadata": {
  "kernelspec": {
   "display_name": "networks",
   "language": "python",
   "name": "python3"
  },
  "language_info": {
   "codemirror_mode": {
    "name": "ipython",
    "version": 3
   },
   "file_extension": ".py",
   "mimetype": "text/x-python",
   "name": "python",
   "nbconvert_exporter": "python",
   "pygments_lexer": "ipython3",
   "version": "3.12.9"
  }
 },
 "nbformat": 4,
 "nbformat_minor": 5
}
