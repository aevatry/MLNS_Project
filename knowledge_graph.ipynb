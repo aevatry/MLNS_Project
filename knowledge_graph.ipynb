{
 "cells": [
  {
   "cell_type": "code",
   "execution_count": 1,
   "id": "80dbc3af",
   "metadata": {},
   "outputs": [],
   "source": [
    "import os\n",
    "import sys\n",
    "import numpy as np\n",
    "import pandas as pd\n",
    "\n",
    "src_path = os.path.abspath(os.path.join(os.path.curdir, \"src\"))\n",
    "sys.path.append(src_path)\n",
    "\n",
    "from src.dataset import read_dataset"
   ]
  },
  {
   "cell_type": "code",
   "execution_count": 2,
   "id": "e4ce8b04",
   "metadata": {},
   "outputs": [],
   "source": [
    "df = read_dataset()"
   ]
  },
  {
   "cell_type": "code",
   "execution_count": 3,
   "id": "e9197eb1",
   "metadata": {},
   "outputs": [
    {
     "name": "stdout",
     "output_type": "stream",
     "text": [
      "Graph file not found at /Users/antonin/Documents/Central Msc AI/Semester2/MLNS/MLNS_Project/data/lastfm_graph.graphml. Please build the graph first.\n",
      "Graph saved to /Users/antonin/Documents/Central Msc AI/Semester2/MLNS/MLNS_Project/data/lastfm_graph.graphml\n"
     ]
    }
   ],
   "source": [
    "from src.graph_builder import read_graph_from_data_dir, build_graph_from_dataframe\n",
    "\n",
    "G = read_graph_from_data_dir()\n",
    "if G is None:\n",
    "    G = build_graph_from_dataframe(df)"
   ]
  },
  {
   "cell_type": "code",
   "execution_count": null,
   "id": "0540fcbd",
   "metadata": {},
   "outputs": [],
   "source": []
  }
 ],
 "metadata": {
  "kernelspec": {
   "display_name": "networks",
   "language": "python",
   "name": "python3"
  },
  "language_info": {
   "codemirror_mode": {
    "name": "ipython",
    "version": 3
   },
   "file_extension": ".py",
   "mimetype": "text/x-python",
   "name": "python",
   "nbconvert_exporter": "python",
   "pygments_lexer": "ipython3",
   "version": "3.12.9"
  }
 },
 "nbformat": 4,
 "nbformat_minor": 5
}
