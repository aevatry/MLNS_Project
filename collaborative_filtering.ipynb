{
 "cells": [
  {
   "cell_type": "code",
   "execution_count": 1,
   "id": "ce639622",
   "metadata": {},
   "outputs": [],
   "source": [
    "import os\n",
    "import sys\n",
    "import numpy as np\n",
    "import pandas as pd\n",
    "\n",
    "src_path = os.path.abspath(os.path.join(os.path.curdir, \"src\"))\n",
    "sys.path.append(src_path)\n",
    "\n",
    "from src.dataset import read_dataset"
   ]
  },
  {
   "cell_type": "code",
   "execution_count": 2,
   "id": "e466a5c4",
   "metadata": {},
   "outputs": [],
   "source": [
    "df = read_dataset()"
   ]
  },
  {
   "cell_type": "markdown",
   "id": "f17c298a",
   "metadata": {},
   "source": [
    "For collaborative filtering, we need to choose only 1 type of \"item\" to recommand to the user. For that, we choose to recommand artists to user. "
   ]
  },
  {
   "cell_type": "code",
   "execution_count": 3,
   "id": "f0afa969",
   "metadata": {},
   "outputs": [],
   "source": [
    "user_artists_df = df.groupby(['user_id', 'artist_id']).agg(\n",
    "    timestamp = pd.NamedAgg(column='timestamp', aggfunc='max'),\n",
    ").reset_index()"
   ]
  },
  {
   "cell_type": "code",
   "execution_count": 4,
   "id": "9d161c35",
   "metadata": {},
   "outputs": [
    {
     "name": "stdout",
     "output_type": "stream",
     "text": [
      "**************************************************************\n",
      "Epoch 1/10\n"
     ]
    },
    {
     "name": "stderr",
     "output_type": "stream",
     "text": [
      "100%|██████████| 24/24 [00:02<00:00, 11.36it/s, BPR loss=0.02816]\n"
     ]
    },
    {
     "name": "stdout",
     "output_type": "stream",
     "text": [
      "Validation: Recall@20=0.0020\tPrecision@20=0.0100\tnDCG@20=0.0093\n",
      "Test: Recall@20=0.0009\tPrecision@20=0.0027\tnDCG@20=0.0023\n",
      "**************************************************************\n",
      "Epoch 2/10\n"
     ]
    },
    {
     "name": "stderr",
     "output_type": "stream",
     "text": [
      "100%|██████████| 24/24 [00:02<00:00, 11.10it/s, BPR loss=0.02717]\n"
     ]
    },
    {
     "name": "stdout",
     "output_type": "stream",
     "text": [
      "Validation: Recall@20=0.0073\tPrecision@20=0.0250\tnDCG@20=0.0262\n",
      "Test: Recall@20=0.0052\tPrecision@20=0.0162\tnDCG@20=0.0170\n",
      "**************************************************************\n",
      "Epoch 3/10\n"
     ]
    },
    {
     "name": "stderr",
     "output_type": "stream",
     "text": [
      "100%|██████████| 24/24 [00:02<00:00, 10.81it/s, BPR loss=0.02587]\n"
     ]
    },
    {
     "name": "stdout",
     "output_type": "stream",
     "text": [
      "Validation: Recall@20=0.0080\tPrecision@20=0.0283\tnDCG@20=0.0299\n",
      "Test: Recall@20=0.0345\tPrecision@20=0.0284\tnDCG@20=0.0368\n",
      "**************************************************************\n",
      "Epoch 4/10\n"
     ]
    },
    {
     "name": "stderr",
     "output_type": "stream",
     "text": [
      "100%|██████████| 24/24 [00:02<00:00, 11.59it/s, BPR loss=0.02453]\n"
     ]
    },
    {
     "name": "stdout",
     "output_type": "stream",
     "text": [
      "Validation: Recall@20=0.0067\tPrecision@20=0.0250\tnDCG@20=0.0268\n",
      "Test: Recall@20=0.0089\tPrecision@20=0.0351\tnDCG@20=0.0383\n",
      "**************************************************************\n",
      "Epoch 5/10\n"
     ]
    },
    {
     "name": "stderr",
     "output_type": "stream",
     "text": [
      "100%|██████████| 24/24 [00:02<00:00, 11.27it/s, BPR loss=0.02256]\n"
     ]
    },
    {
     "name": "stdout",
     "output_type": "stream",
     "text": [
      "Validation: Recall@20=0.0058\tPrecision@20=0.0233\tnDCG@20=0.0256\n",
      "Test: Recall@20=0.0363\tPrecision@20=0.0378\tnDCG@20=0.0448\n",
      "**************************************************************\n",
      "Epoch 6/10\n"
     ]
    },
    {
     "name": "stderr",
     "output_type": "stream",
     "text": [
      "100%|██████████| 24/24 [00:02<00:00, 11.36it/s, BPR loss=0.02072]\n"
     ]
    },
    {
     "name": "stdout",
     "output_type": "stream",
     "text": [
      "Validation: Recall@20=0.0102\tPrecision@20=0.0317\tnDCG@20=0.0340\n",
      "Test: Recall@20=0.0117\tPrecision@20=0.0405\tnDCG@20=0.0421\n",
      "**************************************************************\n",
      "Epoch 7/10\n"
     ]
    },
    {
     "name": "stderr",
     "output_type": "stream",
     "text": [
      "100%|██████████| 24/24 [00:02<00:00, 11.59it/s, BPR loss=0.01907]\n"
     ]
    },
    {
     "name": "stdout",
     "output_type": "stream",
     "text": [
      "Validation: Recall@20=0.0136\tPrecision@20=0.0417\tnDCG@20=0.0470\n",
      "Test: Recall@20=0.0135\tPrecision@20=0.0446\tnDCG@20=0.0482\n",
      "**************************************************************\n",
      "Epoch 8/10\n"
     ]
    },
    {
     "name": "stderr",
     "output_type": "stream",
     "text": [
      "100%|██████████| 24/24 [00:02<00:00, 11.36it/s, BPR loss=0.01707]\n"
     ]
    },
    {
     "name": "stdout",
     "output_type": "stream",
     "text": [
      "Validation: Recall@20=0.0148\tPrecision@20=0.0467\tnDCG@20=0.0471\n",
      "Test: Recall@20=0.0156\tPrecision@20=0.0486\tnDCG@20=0.0527\n",
      "**************************************************************\n",
      "Epoch 9/10\n"
     ]
    },
    {
     "name": "stderr",
     "output_type": "stream",
     "text": [
      "100%|██████████| 24/24 [00:02<00:00, 11.36it/s, BPR loss=0.01577]\n"
     ]
    },
    {
     "name": "stdout",
     "output_type": "stream",
     "text": [
      "Validation: Recall@20=0.0146\tPrecision@20=0.0500\tnDCG@20=0.0501\n",
      "Test: Recall@20=0.0172\tPrecision@20=0.0527\tnDCG@20=0.0577\n",
      "**************************************************************\n",
      "Epoch 10/10\n"
     ]
    },
    {
     "name": "stderr",
     "output_type": "stream",
     "text": [
      "100%|██████████| 24/24 [00:02<00:00, 11.59it/s, BPR loss=0.01443]"
     ]
    },
    {
     "name": "stdout",
     "output_type": "stream",
     "text": [
      "Validation: Recall@20=0.0131\tPrecision@20=0.0517\tnDCG@20=0.0490\n",
      "Test: Recall@20=0.0182\tPrecision@20=0.0541\tnDCG@20=0.0556\n",
      "\n",
      "TRAINING COMPLETE!\n",
      "Best epoch: 8\n",
      "Test metrics: Recall@20=0.0156\tPrecision@20=0.0486\tnDCG@20=0.0527\n"
     ]
    },
    {
     "name": "stderr",
     "output_type": "stream",
     "text": [
      "\n"
     ]
    }
   ],
   "source": [
    "from src.cf_mf import MatrixFactorization\n",
    "\n",
    "mf = MatrixFactorization(df=user_artists_df,\n",
    "                         batch_size=1024,\n",
    "                         embedding_size=64,\n",
    "                         learning_rate=0.001,\n",
    "                         regularization=1e-5)\n",
    "mf.fit(epochs=10, val_epoch=1)"
   ]
  }
 ],
 "metadata": {
  "kernelspec": {
   "display_name": "networks",
   "language": "python",
   "name": "python3"
  },
  "language_info": {
   "codemirror_mode": {
    "name": "ipython",
    "version": 3
   },
   "file_extension": ".py",
   "mimetype": "text/x-python",
   "name": "python",
   "nbconvert_exporter": "python",
   "pygments_lexer": "ipython3",
   "version": "3.12.9"
  }
 },
 "nbformat": 4,
 "nbformat_minor": 5
}
