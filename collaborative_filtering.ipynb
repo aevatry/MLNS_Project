{
 "cells": [
  {
   "cell_type": "code",
   "execution_count": 1,
   "id": "ce639622",
   "metadata": {},
   "outputs": [],
   "source": [
    "import os\n",
    "import sys\n",
    "import numpy as np\n",
    "import pandas as pd\n",
    "\n",
    "src_path = os.path.abspath(os.path.join(os.path.curdir, \"src\"))\n",
    "sys.path.append(src_path)\n",
    "\n",
    "from src.dataset import read_dataset"
   ]
  },
  {
   "cell_type": "code",
   "execution_count": 2,
   "id": "e466a5c4",
   "metadata": {},
   "outputs": [],
   "source": [
    "df = read_dataset()"
   ]
  },
  {
   "cell_type": "markdown",
   "id": "f17c298a",
   "metadata": {},
   "source": [
    "For collaborative filtering, we need to choose only 1 type of \"item\" to recommand to the user. For that, we choose to recommand artists to user. "
   ]
  },
  {
   "cell_type": "code",
   "execution_count": 5,
   "id": "f0afa969",
   "metadata": {},
   "outputs": [
    {
     "name": "stdout",
     "output_type": "stream",
     "text": [
      "<class 'pandas.core.frame.DataFrame'>\n",
      "Index: 184954 entries, 0 to 154894\n",
      "Data columns (total 3 columns):\n",
      " #   Column     Non-Null Count   Dtype              \n",
      "---  ------     --------------   -----              \n",
      " 0   user_id    184954 non-null  object             \n",
      " 1   item_id    184954 non-null  object             \n",
      " 2   timestamp  184954 non-null  datetime64[us, UTC]\n",
      "dtypes: datetime64[us, UTC](1), object(2)\n",
      "memory usage: 5.6+ MB\n"
     ]
    }
   ],
   "source": [
    "user_artists_df = df.groupby(['user_id', 'artist_id']).agg(\n",
    "    timestamp = pd.NamedAgg(column='timestamp', aggfunc='max'),\n",
    ").reset_index()\n",
    "user_track_df = df.groupby(['user_id', 'track_id']).agg(\n",
    "    timestamp = pd.NamedAgg(column='timestamp', aggfunc='max'),\n",
    ").reset_index()\n",
    "\n",
    "user_artists_df = user_artists_df.rename(columns={'artist_id': 'item_id'})\n",
    "user_track_df = user_track_df.rename(columns={'track_id': 'item_id'})\n",
    "\n",
    "user_item_df = pd.concat([user_artists_df, user_track_df])\n",
    "\n",
    "user_item_df.info()"
   ]
  },
  {
   "cell_type": "code",
   "execution_count": 6,
   "id": "9d161c35",
   "metadata": {},
   "outputs": [
    {
     "ename": "KeyError",
     "evalue": "'artist_id'",
     "output_type": "error",
     "traceback": [
      "\u001b[0;31m---------------------------------------------------------------------------\u001b[0m",
      "\u001b[0;31mKeyError\u001b[0m                                  Traceback (most recent call last)",
      "File \u001b[0;32m~/miniconda3/envs/networks/lib/python3.12/site-packages/pandas/core/indexes/base.py:3805\u001b[0m, in \u001b[0;36mIndex.get_loc\u001b[0;34m(self, key)\u001b[0m\n\u001b[1;32m   3804\u001b[0m \u001b[38;5;28;01mtry\u001b[39;00m:\n\u001b[0;32m-> 3805\u001b[0m     \u001b[38;5;28;01mreturn\u001b[39;00m \u001b[38;5;28mself\u001b[39m\u001b[38;5;241m.\u001b[39m_engine\u001b[38;5;241m.\u001b[39mget_loc(casted_key)\n\u001b[1;32m   3806\u001b[0m \u001b[38;5;28;01mexcept\u001b[39;00m \u001b[38;5;167;01mKeyError\u001b[39;00m \u001b[38;5;28;01mas\u001b[39;00m err:\n",
      "File \u001b[0;32mindex.pyx:167\u001b[0m, in \u001b[0;36mpandas._libs.index.IndexEngine.get_loc\u001b[0;34m()\u001b[0m\n",
      "File \u001b[0;32mindex.pyx:196\u001b[0m, in \u001b[0;36mpandas._libs.index.IndexEngine.get_loc\u001b[0;34m()\u001b[0m\n",
      "File \u001b[0;32mpandas/_libs/hashtable_class_helper.pxi:7081\u001b[0m, in \u001b[0;36mpandas._libs.hashtable.PyObjectHashTable.get_item\u001b[0;34m()\u001b[0m\n",
      "File \u001b[0;32mpandas/_libs/hashtable_class_helper.pxi:7089\u001b[0m, in \u001b[0;36mpandas._libs.hashtable.PyObjectHashTable.get_item\u001b[0;34m()\u001b[0m\n",
      "\u001b[0;31mKeyError\u001b[0m: 'artist_id'",
      "\nThe above exception was the direct cause of the following exception:\n",
      "\u001b[0;31mKeyError\u001b[0m                                  Traceback (most recent call last)",
      "Cell \u001b[0;32mIn[6], line 3\u001b[0m\n\u001b[1;32m      1\u001b[0m \u001b[38;5;28;01mfrom\u001b[39;00m \u001b[38;5;21;01msrc\u001b[39;00m\u001b[38;5;21;01m.\u001b[39;00m\u001b[38;5;21;01mcf_mf\u001b[39;00m \u001b[38;5;28;01mimport\u001b[39;00m MatrixFactorization\n\u001b[0;32m----> 3\u001b[0m mf \u001b[38;5;241m=\u001b[39m MatrixFactorization(df\u001b[38;5;241m=\u001b[39muser_item_df,\n\u001b[1;32m      4\u001b[0m                          batch_size\u001b[38;5;241m=\u001b[39m\u001b[38;5;241m1024\u001b[39m,\n\u001b[1;32m      5\u001b[0m                          embedding_size\u001b[38;5;241m=\u001b[39m\u001b[38;5;241m64\u001b[39m,\n\u001b[1;32m      6\u001b[0m                          learning_rate\u001b[38;5;241m=\u001b[39m\u001b[38;5;241m0.001\u001b[39m,\n\u001b[1;32m      7\u001b[0m                          regularization\u001b[38;5;241m=\u001b[39m\u001b[38;5;241m1e-5\u001b[39m)\n\u001b[1;32m      8\u001b[0m mf\u001b[38;5;241m.\u001b[39mfit(epochs\u001b[38;5;241m=\u001b[39m\u001b[38;5;241m10\u001b[39m, val_epoch\u001b[38;5;241m=\u001b[39m\u001b[38;5;241m1\u001b[39m)\n",
      "File \u001b[0;32m~/Documents/Central Msc AI/Semester2/MLNS/MLNS_Project/src/cf_mf.py:49\u001b[0m, in \u001b[0;36mMatrixFactorization.__init__\u001b[0;34m(self, df, batch_size, embedding_size, learning_rate, regularization, top_k, seed)\u001b[0m\n\u001b[1;32m     47\u001b[0m \u001b[38;5;28;01mdef\u001b[39;00m \u001b[38;5;21m__init__\u001b[39m(\u001b[38;5;28mself\u001b[39m, df:pd\u001b[38;5;241m.\u001b[39mDataFrame, batch_size:\u001b[38;5;28mint\u001b[39m, embedding_size:\u001b[38;5;28mint\u001b[39m, learning_rate:\u001b[38;5;28mfloat\u001b[39m, regularization:\u001b[38;5;28mfloat\u001b[39m, top_k:\u001b[38;5;28mint\u001b[39m\u001b[38;5;241m=\u001b[39m\u001b[38;5;241m20\u001b[39m, seed:\u001b[38;5;28mint\u001b[39m\u001b[38;5;241m=\u001b[39m\u001b[38;5;241m42\u001b[39m):\n\u001b[1;32m     48\u001b[0m     \u001b[38;5;66;03m# Initialize the sampler\u001b[39;00m\n\u001b[0;32m---> 49\u001b[0m     \u001b[38;5;28mself\u001b[39m\u001b[38;5;241m.\u001b[39mpws \u001b[38;5;241m=\u001b[39m PairWiseSampler(df, batch_size\u001b[38;5;241m=\u001b[39mbatch_size, seed\u001b[38;5;241m=\u001b[39mseed)\n\u001b[1;32m     51\u001b[0m     \u001b[38;5;66;03m# initialize user and item keys\u001b[39;00m\n\u001b[1;32m     52\u001b[0m     U_KEY \u001b[38;5;241m=\u001b[39m DF_KEYS\u001b[38;5;241m.\u001b[39mUSERS\u001b[38;5;241m.\u001b[39mvalue\n",
      "File \u001b[0;32m~/Documents/Central Msc AI/Semester2/MLNS/MLNS_Project/src/pws_sampler.py:31\u001b[0m, in \u001b[0;36mPairWiseSampler.__init__\u001b[0;34m(self, last_fm_df, batch_size, seed)\u001b[0m\n\u001b[1;32m     29\u001b[0m \u001b[38;5;66;03m# Re-map users and items so that they are represented by contiguous ids (users: 0...N-1, items: 0...M-1)\u001b[39;00m\n\u001b[1;32m     30\u001b[0m \u001b[38;5;28mself\u001b[39m\u001b[38;5;241m.\u001b[39muser_map \u001b[38;5;241m=\u001b[39m {u: idx \u001b[38;5;28;01mfor\u001b[39;00m idx, u \u001b[38;5;129;01min\u001b[39;00m \u001b[38;5;28menumerate\u001b[39m(\u001b[38;5;28mself\u001b[39m\u001b[38;5;241m.\u001b[39mtrain[U_KEY]\u001b[38;5;241m.\u001b[39munique())}\n\u001b[0;32m---> 31\u001b[0m \u001b[38;5;28mself\u001b[39m\u001b[38;5;241m.\u001b[39mitem_map \u001b[38;5;241m=\u001b[39m {i: idx \u001b[38;5;28;01mfor\u001b[39;00m idx, i \u001b[38;5;129;01min\u001b[39;00m \u001b[38;5;28menumerate\u001b[39m(\u001b[38;5;28mself\u001b[39m\u001b[38;5;241m.\u001b[39mtrain[I_KEY]\u001b[38;5;241m.\u001b[39munique())}\n\u001b[1;32m     32\u001b[0m \u001b[38;5;28mself\u001b[39m\u001b[38;5;241m.\u001b[39mtrain[U_KEY] \u001b[38;5;241m=\u001b[39m \u001b[38;5;28mself\u001b[39m\u001b[38;5;241m.\u001b[39mtrain[U_KEY]\u001b[38;5;241m.\u001b[39mmap(\u001b[38;5;28mself\u001b[39m\u001b[38;5;241m.\u001b[39muser_map)\n\u001b[1;32m     33\u001b[0m \u001b[38;5;28mself\u001b[39m\u001b[38;5;241m.\u001b[39mtrain[I_KEY] \u001b[38;5;241m=\u001b[39m \u001b[38;5;28mself\u001b[39m\u001b[38;5;241m.\u001b[39mtrain[I_KEY]\u001b[38;5;241m.\u001b[39mmap(\u001b[38;5;28mself\u001b[39m\u001b[38;5;241m.\u001b[39mitem_map)\n",
      "File \u001b[0;32m~/miniconda3/envs/networks/lib/python3.12/site-packages/pandas/core/frame.py:4102\u001b[0m, in \u001b[0;36mDataFrame.__getitem__\u001b[0;34m(self, key)\u001b[0m\n\u001b[1;32m   4100\u001b[0m \u001b[38;5;28;01mif\u001b[39;00m \u001b[38;5;28mself\u001b[39m\u001b[38;5;241m.\u001b[39mcolumns\u001b[38;5;241m.\u001b[39mnlevels \u001b[38;5;241m>\u001b[39m \u001b[38;5;241m1\u001b[39m:\n\u001b[1;32m   4101\u001b[0m     \u001b[38;5;28;01mreturn\u001b[39;00m \u001b[38;5;28mself\u001b[39m\u001b[38;5;241m.\u001b[39m_getitem_multilevel(key)\n\u001b[0;32m-> 4102\u001b[0m indexer \u001b[38;5;241m=\u001b[39m \u001b[38;5;28mself\u001b[39m\u001b[38;5;241m.\u001b[39mcolumns\u001b[38;5;241m.\u001b[39mget_loc(key)\n\u001b[1;32m   4103\u001b[0m \u001b[38;5;28;01mif\u001b[39;00m is_integer(indexer):\n\u001b[1;32m   4104\u001b[0m     indexer \u001b[38;5;241m=\u001b[39m [indexer]\n",
      "File \u001b[0;32m~/miniconda3/envs/networks/lib/python3.12/site-packages/pandas/core/indexes/base.py:3812\u001b[0m, in \u001b[0;36mIndex.get_loc\u001b[0;34m(self, key)\u001b[0m\n\u001b[1;32m   3807\u001b[0m     \u001b[38;5;28;01mif\u001b[39;00m \u001b[38;5;28misinstance\u001b[39m(casted_key, \u001b[38;5;28mslice\u001b[39m) \u001b[38;5;129;01mor\u001b[39;00m (\n\u001b[1;32m   3808\u001b[0m         \u001b[38;5;28misinstance\u001b[39m(casted_key, abc\u001b[38;5;241m.\u001b[39mIterable)\n\u001b[1;32m   3809\u001b[0m         \u001b[38;5;129;01mand\u001b[39;00m \u001b[38;5;28many\u001b[39m(\u001b[38;5;28misinstance\u001b[39m(x, \u001b[38;5;28mslice\u001b[39m) \u001b[38;5;28;01mfor\u001b[39;00m x \u001b[38;5;129;01min\u001b[39;00m casted_key)\n\u001b[1;32m   3810\u001b[0m     ):\n\u001b[1;32m   3811\u001b[0m         \u001b[38;5;28;01mraise\u001b[39;00m InvalidIndexError(key)\n\u001b[0;32m-> 3812\u001b[0m     \u001b[38;5;28;01mraise\u001b[39;00m \u001b[38;5;167;01mKeyError\u001b[39;00m(key) \u001b[38;5;28;01mfrom\u001b[39;00m \u001b[38;5;21;01merr\u001b[39;00m\n\u001b[1;32m   3813\u001b[0m \u001b[38;5;28;01mexcept\u001b[39;00m \u001b[38;5;167;01mTypeError\u001b[39;00m:\n\u001b[1;32m   3814\u001b[0m     \u001b[38;5;66;03m# If we have a listlike key, _check_indexing_error will raise\u001b[39;00m\n\u001b[1;32m   3815\u001b[0m     \u001b[38;5;66;03m#  InvalidIndexError. Otherwise we fall through and re-raise\u001b[39;00m\n\u001b[1;32m   3816\u001b[0m     \u001b[38;5;66;03m#  the TypeError.\u001b[39;00m\n\u001b[1;32m   3817\u001b[0m     \u001b[38;5;28mself\u001b[39m\u001b[38;5;241m.\u001b[39m_check_indexing_error(key)\n",
      "\u001b[0;31mKeyError\u001b[0m: 'artist_id'"
     ]
    }
   ],
   "source": [
    "from src.cf_mf import MatrixFactorization\n",
    "\n",
    "mf = MatrixFactorization(df=user_item_df,\n",
    "                         batch_size=1024,\n",
    "                         embedding_size=64,\n",
    "                         learning_rate=0.001,\n",
    "                         regularization=1e-5)\n",
    "mf.fit(epochs=10, val_epoch=1)"
   ]
  },
  {
   "cell_type": "code",
   "execution_count": null,
   "id": "ba7061a8",
   "metadata": {},
   "outputs": [],
   "source": []
  }
 ],
 "metadata": {
  "kernelspec": {
   "display_name": "networks",
   "language": "python",
   "name": "python3"
  },
  "language_info": {
   "codemirror_mode": {
    "name": "ipython",
    "version": 3
   },
   "file_extension": ".py",
   "mimetype": "text/x-python",
   "name": "python",
   "nbconvert_exporter": "python",
   "pygments_lexer": "ipython3",
   "version": "3.12.9"
  }
 },
 "nbformat": 4,
 "nbformat_minor": 5
}
