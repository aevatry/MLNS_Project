{
 "cells": [
  {
   "cell_type": "code",
   "execution_count": 1,
   "id": "ce639622",
   "metadata": {},
   "outputs": [],
   "source": [
    "import os\n",
    "import sys\n",
    "import numpy as np\n",
    "import pandas as pd\n",
    "\n",
    "src_path = os.path.abspath(os.path.join(os.path.curdir, \"src\"))\n",
    "sys.path.append(src_path)\n",
    "\n",
    "from src.dataset import read_dataset\n",
    "from src.helper import compute_dataset_statistics"
   ]
  },
  {
   "cell_type": "code",
   "execution_count": 2,
   "id": "e466a5c4",
   "metadata": {},
   "outputs": [],
   "source": [
    "df = read_dataset()"
   ]
  },
  {
   "cell_type": "markdown",
   "id": "f17c298a",
   "metadata": {},
   "source": [
    "For collaborative filtering, we need to choose only 1 type of \"item\" to recommand to the user. For that, we choose to recommand artists to user. "
   ]
  },
  {
   "cell_type": "code",
   "execution_count": 3,
   "id": "f0afa969",
   "metadata": {},
   "outputs": [
    {
     "name": "stdout",
     "output_type": "stream",
     "text": [
      "<class 'pandas.core.frame.DataFrame'>\n",
      "Index: 184954 entries, 0 to 154894\n",
      "Data columns (total 3 columns):\n",
      " #   Column     Non-Null Count   Dtype              \n",
      "---  ------     --------------   -----              \n",
      " 0   user_id    184954 non-null  object             \n",
      " 1   item_id    184954 non-null  object             \n",
      " 2   timestamp  184954 non-null  datetime64[us, UTC]\n",
      "dtypes: datetime64[us, UTC](1), object(2)\n",
      "memory usage: 5.6+ MB\n"
     ]
    }
   ],
   "source": [
    "user_artists_df = df.groupby(['user_id', 'artist_id']).agg(\n",
    "    timestamp = pd.NamedAgg(column='timestamp', aggfunc='max'),\n",
    ").reset_index()\n",
    "user_track_df = df.groupby(['user_id', 'track_id']).agg(\n",
    "    timestamp = pd.NamedAgg(column='timestamp', aggfunc='max'),\n",
    ").reset_index()\n",
    "\n",
    "user_artists_df = user_artists_df.rename(columns={'artist_id': 'item_id'})\n",
    "user_track_df = user_track_df.rename(columns={'track_id': 'item_id'})\n",
    "\n",
    "user_item_df = pd.concat([user_artists_df, user_track_df])\n",
    "\n",
    "user_item_df.info()"
   ]
  },
  {
   "cell_type": "code",
   "execution_count": 4,
   "id": "532ad74b",
   "metadata": {},
   "outputs": [
    {
     "name": "stdout",
     "output_type": "stream",
     "text": [
      "Number of users: 50\n",
      "Number of items: 126117\n",
      "Number of interactions: 184954\n",
      "Density: 0.029330542274237415\n",
      "Sparsity: 0.9706694577257626\n"
     ]
    }
   ],
   "source": [
    "stats = compute_dataset_statistics(user_item_df)"
   ]
  },
  {
   "cell_type": "code",
   "execution_count": 5,
   "id": "9d161c35",
   "metadata": {},
   "outputs": [
    {
     "name": "stdout",
     "output_type": "stream",
     "text": [
      "**************************************************************\n",
      "Epoch 1/5\n"
     ]
    },
    {
     "name": "stderr",
     "output_type": "stream",
     "text": [
      "100%|██████████| 145/145 [01:33<00:00,  1.54it/s, BPR loss=0.00391]\n"
     ]
    },
    {
     "name": "stdout",
     "output_type": "stream",
     "text": [
      "Validation: Recall@20=0.0001\tPrecision@20=0.0045\tnDCG@20=0.0082\n",
      "Test: Recall@20=0.0008\tPrecision@20=0.0149\tnDCG@20=0.0127\n",
      "**************************************************************\n",
      "Epoch 2/5\n"
     ]
    },
    {
     "name": "stderr",
     "output_type": "stream",
     "text": [
      "100%|██████████| 145/145 [01:39<00:00,  1.46it/s, BPR loss=0.00283]\n"
     ]
    },
    {
     "name": "stdout",
     "output_type": "stream",
     "text": [
      "Validation: Recall@20=0.0004\tPrecision@20=0.0106\tnDCG@20=0.0111\n",
      "Test: Recall@20=0.0014\tPrecision@20=0.0189\tnDCG@20=0.0159\n",
      "**************************************************************\n",
      "Epoch 3/5\n"
     ]
    },
    {
     "name": "stderr",
     "output_type": "stream",
     "text": [
      "100%|██████████| 145/145 [01:37<00:00,  1.49it/s, BPR loss=0.00198]\n"
     ]
    },
    {
     "name": "stdout",
     "output_type": "stream",
     "text": [
      "Validation: Recall@20=0.0006\tPrecision@20=0.0121\tnDCG@20=0.0132\n",
      "Test: Recall@20=0.0008\tPrecision@20=0.0122\tnDCG@20=0.0093\n",
      "**************************************************************\n",
      "Epoch 4/5\n"
     ]
    },
    {
     "name": "stderr",
     "output_type": "stream",
     "text": [
      "100%|██████████| 145/145 [01:37<00:00,  1.48it/s, BPR loss=0.00138]\n"
     ]
    },
    {
     "name": "stdout",
     "output_type": "stream",
     "text": [
      "Validation: Recall@20=0.0010\tPrecision@20=0.0136\tnDCG@20=0.0128\n",
      "Test: Recall@20=0.0012\tPrecision@20=0.0162\tnDCG@20=0.0122\n",
      "**************************************************************\n",
      "Epoch 5/5\n"
     ]
    },
    {
     "name": "stderr",
     "output_type": "stream",
     "text": [
      "100%|██████████| 145/145 [01:38<00:00,  1.48it/s, BPR loss=0.00109]"
     ]
    },
    {
     "name": "stdout",
     "output_type": "stream",
     "text": [
      "Validation: Recall@20=0.0009\tPrecision@20=0.0121\tnDCG@20=0.0124\n",
      "Test: Recall@20=0.0011\tPrecision@20=0.0162\tnDCG@20=0.0129\n",
      "\n",
      "TRAINING COMPLETE!\n",
      "Best epoch: 4\n",
      "Test metrics: Recall@20=0.0012\tPrecision@20=0.0162\tnDCG@20=0.0122\n"
     ]
    },
    {
     "name": "stderr",
     "output_type": "stream",
     "text": [
      "\n"
     ]
    }
   ],
   "source": [
    "from src.cf_mf import MatrixFactorization\n",
    "\n",
    "mf = MatrixFactorization(df=user_item_df,\n",
    "                         batch_size=1024,\n",
    "                         embedding_size=64,\n",
    "                         learning_rate=0.001,\n",
    "                         regularization=1e-5)\n",
    "preds = mf.fit(epochs=5, val_epoch=1)"
   ]
  }
 ],
 "metadata": {
  "kernelspec": {
   "display_name": "networks",
   "language": "python",
   "name": "python3"
  },
  "language_info": {
   "codemirror_mode": {
    "name": "ipython",
    "version": 3
   },
   "file_extension": ".py",
   "mimetype": "text/x-python",
   "name": "python",
   "nbconvert_exporter": "python",
   "pygments_lexer": "ipython3",
   "version": "3.12.9"
  }
 },
 "nbformat": 4,
 "nbformat_minor": 5
}
